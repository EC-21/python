{
 "cells": [
  {
   "cell_type": "code",
   "execution_count": 4,
   "metadata": {},
   "outputs": [
    {
     "name": "stdout",
     "output_type": "stream",
     "text": [
      "you can have a mojito\n",
      "are you happy?\n"
     ]
    }
   ],
   "source": [
    "#Conditions\n",
    "age = 22\n",
    "if age > 21:\n",
    "    print(\"you can have a mojito\")\n",
    "else:\n",
    "    print(\"you can have orange juice\")\n",
    "print(\"are you happy?\")"
   ]
  },
  {
   "cell_type": "code",
   "execution_count": 5,
   "metadata": {},
   "outputs": [
    {
     "name": "stdout",
     "output_type": "stream",
     "text": [
      "emma\n",
      "joy\n",
      "lara\n"
     ]
    }
   ],
   "source": [
    "#Loops\n",
    "names = [\"emma\", \"joy\", \"lara\"]\n",
    "N = len(names)\n",
    "\n",
    "for i in range (N):\n",
    "    print(names[i])"
   ]
  },
  {
   "cell_type": "code",
   "execution_count": 10,
   "metadata": {},
   "outputs": [
    {
     "name": "stdout",
     "output_type": "stream",
     "text": [
      "0 red\n",
      "1 yellow\n",
      "2 green\n",
      "3 purple\n",
      "4 blue\n"
     ]
    }
   ],
   "source": [
    "colors=['red', 'yellow', 'green', 'purple', 'blue']\n",
    "\n",
    "for i, color in enumerate(colors):\n",
    "    print(i, color)"
   ]
  },
  {
   "cell_type": "code",
   "execution_count": 11,
   "metadata": {},
   "outputs": [
    {
     "name": "stdout",
     "output_type": "stream",
     "text": [
      "Emma\n",
      "Joy\n",
      "It took  2 repetitions to get out of loop\n"
     ]
    }
   ],
   "source": [
    "#while loop\n",
    "names = [\"Emma\", \"Joy\", \"Lara\"]\n",
    "\n",
    "i = 0\n",
    "N = names[0]\n",
    "\n",
    "while(N != \"Lara\"):\n",
    "    print(N)\n",
    "    i = i + 1\n",
    "    N = names[i]\n",
    "print(\"It took \", i, \"repetitions to get out of loop\")"
   ]
  },
  {
   "cell_type": "code",
   "execution_count": 12,
   "metadata": {},
   "outputs": [
    {
     "name": "stdout",
     "output_type": "stream",
     "text": [
      "15\n"
     ]
    }
   ],
   "source": [
    "#Defining a multiplication function\n",
    "def Mult(a, b):\n",
    "    c = a * b\n",
    "    return(c)\n",
    "\n",
    "result = Mult(3, 5)\n",
    "print(result)"
   ]
  },
  {
   "cell_type": "code",
   "execution_count": 13,
   "metadata": {},
   "outputs": [
    {
     "data": {
      "text/plain": [
       "'EmmaEmmaEmma'"
      ]
     },
     "execution_count": 13,
     "metadata": {},
     "output_type": "execute_result"
    }
   ],
   "source": [
    "Mult(3, \"Emma\")"
   ]
  },
  {
   "cell_type": "code",
   "execution_count": 21,
   "metadata": {},
   "outputs": [
    {
     "name": "stdout",
     "output_type": "stream",
     "text": [
      "5 if you square + 1 26\n"
     ]
    }
   ],
   "source": [
    "#Local variable\n",
    "def square(a):\n",
    "    b = 1\n",
    "    c = a * a + b\n",
    "    print(a, \"if you square + 1\", c)\n",
    "    return(c)\n",
    "    \n",
    "x = 5\n",
    "y = square(x)"
   ]
  },
  {
   "cell_type": "code",
   "execution_count": 24,
   "metadata": {},
   "outputs": [
    {
     "name": "stdout",
     "output_type": "stream",
     "text": [
      "this book sucks it's rating is 3\n",
      "this book is good its rating is 10\n"
     ]
    }
   ],
   "source": [
    "def isGoodRead(rating=3): \n",
    "    if(rating < 7):\n",
    "        print(\"this book sucks it's rating is\",rating)\n",
    "        \n",
    "    else:\n",
    "        print(\"this book is good its rating is\",rating)\n",
    "isGoodRead()\n",
    "isGoodRead(10)"
   ]
  },
  {
   "cell_type": "code",
   "execution_count": 29,
   "metadata": {},
   "outputs": [
    {
     "name": "stdout",
     "output_type": "stream",
     "text": [
      "The Power of Now is a good book\n",
      "The Four Agreements is a good book\n"
     ]
    }
   ],
   "source": [
    "book = \"The Power of Now\"\n",
    "\n",
    "def printer(book):\n",
    "    global internal_var \n",
    "    internal_var= \"The Four Agreements\"\n",
    "    print(book,\"is a good book\")\n",
    "\n",
    "printer(book) \n",
    "printer(internal_var)"
   ]
  },
  {
   "cell_type": "code",
   "execution_count": 30,
   "metadata": {},
   "outputs": [
    {
     "name": "stdout",
     "output_type": "stream",
     "text": [
      "The Power of Now's rating is: 0.0\n",
      "The Four Agreement's rating is:  10.0\n",
      "My favourite book is: The Power of Now\n"
     ]
    }
   ],
   "source": [
    "#global and local variable with the same name\n",
    "FavouriteBook = \"The Power of Now\"\n",
    "\n",
    "def BookRating(bookname):\n",
    "    FavouriteBook = \"The Four Agreements\"\n",
    "    if bookname == FavouriteBook:\n",
    "        return 10.0\n",
    "    else:\n",
    "        return 0.0\n",
    "\n",
    "print(\"The Power of Now's rating is:\",BookRating(\"The Power of Now\"))\n",
    "print(\"The Four Agreement's rating is: \",BookRating(\"The Four Agreements\"))\n",
    "print(\"My favourite book is:\",FavouriteBook)"
   ]
  },
  {
   "cell_type": "code",
   "execution_count": null,
   "metadata": {},
   "outputs": [],
   "source": []
  }
 ],
 "metadata": {
  "kernelspec": {
   "display_name": "Python 3",
   "language": "python",
   "name": "python3"
  },
  "language_info": {
   "codemirror_mode": {
    "name": "ipython",
    "version": 3
   },
   "file_extension": ".py",
   "mimetype": "text/x-python",
   "name": "python",
   "nbconvert_exporter": "python",
   "pygments_lexer": "ipython3",
   "version": "3.8.5"
  }
 },
 "nbformat": 4,
 "nbformat_minor": 4
}
